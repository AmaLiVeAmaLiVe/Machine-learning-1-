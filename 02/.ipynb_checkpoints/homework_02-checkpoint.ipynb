{
 "cells": [
  {
   "cell_type": "markdown",
   "id": "0cf75ab4-bd4d-4ec2-a708-74797dbfce44",
   "metadata": {},
   "source": [
    "# Úkol č. 2 - regrese\n",
    "\n",
    "* Termíny jsou uvedeny na [courses.fit.cvut.cz](https://courses.fit.cvut.cz/BI-ML1/homeworks/index.html).\n",
    "* Pokud odevzdáte úkol po prvním termínu ale před nejzazším termínem, budete penalizování -12 body, pozdější odevzdání je bez bodu.\n",
    "* V rámci tohoto úkolu se musíte vypořádat s regresní úlohou, s příznaky různých typů a s chybějícími hodnotami.\n",
    "* Před tím, než na nich postavíte predikční model, je třeba je nějakým způsobem převést do číselné reprezentace.\n",
    "    \n",
    "> **Úkoly jsou zadány tak, aby Vám daly prostor pro invenci. Vymyslet _jak přesně_ budete úkol řešit, je důležitou součástí zadání a originalita či nápaditost bude také hodnocena!**\n",
    "\n",
    "Využívejte buňky typu `Markdown` k vysvětlování Vašeho postupu. Za nepřehlednost budeme strhávat body.\n",
    "\n",
    "## Zdroj dat\n",
    "\n",
    "Budeme se zabývat predikcí délky dožití v různých zemích a letech.\n",
    "K dispozici máte trénovací data v souboru `data.csv` a data na vyhodnocení v souboru `evaluation.csv`.\n",
    "\n",
    "#### Seznam příznaků:\n",
    "\n",
    "* Year - Rok\n",
    "* Status - Status rozvinuté nebo rozvojové země\n",
    "* Life expectancy - Délka dožití v letech - **cílová proměnná, kterou budete predikovat**\n",
    "* Adult Mortality - Úmrtnost dospělých bez ohledu na pohlaví (pravděpodobnost, že osoby, které dosáhly věku 15 let, zemřou před dosažením věku 60 let (uvedeno na 1 000 osob)).\n",
    "* infant deaths - počet zemřelých kojenců na 1000 obyvatel\n",
    "* Alcohol - Alkohol, zaznamenaná spotřeba na obyvatele (15+) (v litrech čistého alkoholu)\n",
    "* percentage expenditure - Výdaje na zdravotnictví v procentech hrubého domácího produktu na obyvatele (%)\n",
    "* Hepatitis B - pokrytí očkováním proti hepatitidě B (HepB) u dětí ve věku 1 roku (%)\n",
    "* Measles - Spalničky - počet hlášených případů na 1000 obyvatel\n",
    "* BMI - průměrný index tělesné hmotnosti celé populace\n",
    "* under-five deaths - počet úmrtí dětí do pěti let na 1000 obyvatel\n",
    "* Polio - proočkovanost proti dětské obrně (Pol3) u dětí ve věku 1 roku (%)\n",
    "* Total expenditure - Výdaje vládních institucí na zdravotnictví jako procento celkových vládních výdajů (%)\n",
    "* Diphtheria - pokrytí očkováním proti záškrtu, tetanu a černému kašli (DTP3) u jednoletých dětí (%)\n",
    "* HIV/AIDS - počet úmrtí na 1 000 živě narozených dětí na HIV/AIDS (0-4 roky)\n",
    "* GDP - hrubý domácí produkt na obyvatele (v USD)\n",
    "* Population - počet obyvatel země\n",
    "* thinness 1-19 years - podíl dětí ve věku 10-19 let s indexem tělesné hmotnosti (BMI) menším než 2 směrodatné odchylky pod mediánem (%)\n",
    "* thinness 5-9 years - podíl dětí ve věku 5-9 let s indexem tělesné hmotnosti (BMI) menším než 2 směrodatné odchylky pod mediánem (%)\n",
    "* Income composition of resources - Index lidského rozvoje z hlediska příjmového složení zdrojů (index v rozmezí 0 až 1)\n",
    "* Schooling - počet let školní docházky (roky)\n",
    "\n",
    "\n",
    "## Pokyny k vypracování\n",
    "\n",
    "**Body zadání**, za jejichž (poctivé) vypracování získáte **25 bodů**: \n",
    "  * V notebooku načtěte data ze souboru `data.csv`. Vhodným způsobem si je rozdělte na podmnožiny, které Vám poslouží pro trénování (trénovací), porovnávání modelů (validační) a následnou predikci výkonnosti finálního modelu (testovací).\n",
    "    \n",
    "  * Proveďte základní předzpracování dat:\n",
    "    * Projděte si jednotlivé příznaky a transformujte je do vhodné podoby pro použití ve vybraném regresním modelu.\n",
    "    * Nějakým způsobem se vypořádejte s chybějícími hodnotami. _Pozor na metodické chyby!_\n",
    "    * Můžete využívat i vizualizace. Vše stručně ale náležitě komentujte.\n",
    "<br /><br />\n",
    "  * Vytvořte **vlastní implementaci náhodného lesa**. Použijte k tomu níže předpřipravenou kostru.\n",
    "  \n",
    "  * Na připravená data postupně aplikujte Vaši předchozí implementaci modelu náhodného lesa, dále jeden z modelů **lineární regrese** nebo **hřebenové regrese**, a alespoň jeden další model podle Vašeho uvážení, přičemž pro každý z těchto modelů přiměřeně:\n",
    "    * Okomentujte vhodnost daného modelu pro daný typ úlohy.\n",
    "    * Experimentujte s normalizací (standardizace/min-max), pokud pro daný model očekáváte její příznivý vliv.\n",
    "    * Vyberte si hlavní hyperparametry k ladění a najděte jejich nejlepší hodnoty (vzhledem k RMSE).\n",
    "    * Pro model s nejlepšími hodnotami hyperparametrů určete jeho chybu pomocí RMSE a MAE. _Pozor na metodické chyby!_\n",
    "    * Získané výsledky vždy řádně okomentujte.\n",
    "<br /><br />\n",
    "  * Ze všech zkoušených možností v předchozím kroku vyberte finální model a odhadněte, jakou chybu (RMSE) můžete očekávat na nových datech, která jste doposud neměli k dispozici. _Pozor na metodické chyby!_\n",
    "    \n",
    "  * Nakonec načtěte vyhodnocovací data ze souboru `evaluation.csv`. Pomocí finálního modelu napočítejte predikce pro tato data. Vytvořte soubor `results.csv`, ve kterém získané predikce uložíte s využitím tří sloupců: **Country**, **Year** a **Life expectancy**. Tento soubor též odevzdejte (uložte do repozitáře vedle notebooku).\n",
    "\n",
    "  * Ukázka prvních řádků souboru `results.csv`:\n",
    "  \n",
    "```\n",
    "Country,Year,Life expectancy\n",
    "Peru,2012,71.4\n",
    "Peru,2013,72.6\n",
    "...\n",
    "```\n",
    "\n",
    "\n",
    "## Poznámky k odevzdání\n",
    "\n",
    "  * Řiďte se pokyny ze stránky https://courses.fit.cvut.cz/BI-ML1/homeworks/index.html."
   ]
  },
  {
   "cell_type": "markdown",
   "id": "fe2cd1e1-59e6-4228-91d6-3802cccad873",
   "metadata": {},
   "source": [
    "# ŘEŠENÍ"
   ]
  },
  {
   "cell_type": "markdown",
   "id": "609fa35b-a2a2-4f27-a25c-02376b4004f6",
   "metadata": {},
   "source": [
    "## I. Předzpracování dat"
   ]
  },
  {
   "cell_type": "markdown",
   "id": "2818f554-4fcb-4983-aaef-86b34716a0e6",
   "metadata": {},
   "source": [
    "Importuju potřebné knihovny"
   ]
  },
  {
   "cell_type": "code",
   "execution_count": 1,
   "id": "78ccf7c4-bb0d-4b2b-b58b-56c6c00f219b",
   "metadata": {},
   "outputs": [],
   "source": [
    "import numpy as np\n",
    "import pandas as pd\n",
    "import matplotlib.pyplot as plt\n",
    "import seaborn as sns\n",
    "import math"
   ]
  },
  {
   "cell_type": "markdown",
   "id": "1738fbea-8f5f-4e95-97a0-0264b5135e5d",
   "metadata": {},
   "source": [
    "Načítam si dataset ze csv-souboru a podívám se na informace o něm"
   ]
  },
  {
   "cell_type": "code",
   "execution_count": 2,
   "id": "7832fb47-131c-409c-a73c-d8074e6faa10",
   "metadata": {},
   "outputs": [
    {
     "data": {
      "text/plain": [
       "(2718, 22)"
      ]
     },
     "metadata": {},
     "output_type": "display_data"
    },
    {
     "data": {
      "text/html": [
       "<div>\n",
       "<style scoped>\n",
       "    .dataframe tbody tr th:only-of-type {\n",
       "        vertical-align: middle;\n",
       "    }\n",
       "\n",
       "    .dataframe tbody tr th {\n",
       "        vertical-align: top;\n",
       "    }\n",
       "\n",
       "    .dataframe thead th {\n",
       "        text-align: right;\n",
       "    }\n",
       "</style>\n",
       "<table border=\"1\" class=\"dataframe\">\n",
       "  <thead>\n",
       "    <tr style=\"text-align: right;\">\n",
       "      <th></th>\n",
       "      <th>Country</th>\n",
       "      <th>Year</th>\n",
       "      <th>Status</th>\n",
       "      <th>Life expectancy</th>\n",
       "      <th>Adult Mortality</th>\n",
       "      <th>infant deaths</th>\n",
       "      <th>Alcohol</th>\n",
       "      <th>percentage expenditure</th>\n",
       "      <th>Hepatitis B</th>\n",
       "      <th>Measles</th>\n",
       "      <th>...</th>\n",
       "      <th>Polio</th>\n",
       "      <th>Total expenditure</th>\n",
       "      <th>Diphtheria</th>\n",
       "      <th>HIV/AIDS</th>\n",
       "      <th>GDP</th>\n",
       "      <th>Population</th>\n",
       "      <th>thinness  1-19 years</th>\n",
       "      <th>thinness 5-9 years</th>\n",
       "      <th>Income composition of resources</th>\n",
       "      <th>Schooling</th>\n",
       "    </tr>\n",
       "  </thead>\n",
       "  <tbody>\n",
       "    <tr>\n",
       "      <th>0</th>\n",
       "      <td>Afghanistan</td>\n",
       "      <td>2015</td>\n",
       "      <td>Developing</td>\n",
       "      <td>65.0</td>\n",
       "      <td>263.0</td>\n",
       "      <td>62</td>\n",
       "      <td>0.01</td>\n",
       "      <td>71.279624</td>\n",
       "      <td>65.0</td>\n",
       "      <td>1154</td>\n",
       "      <td>...</td>\n",
       "      <td>6.0</td>\n",
       "      <td>8.16</td>\n",
       "      <td>65.0</td>\n",
       "      <td>0.1</td>\n",
       "      <td>584.259210</td>\n",
       "      <td>33736494.0</td>\n",
       "      <td>17.2</td>\n",
       "      <td>17.3</td>\n",
       "      <td>0.479</td>\n",
       "      <td>10.1</td>\n",
       "    </tr>\n",
       "    <tr>\n",
       "      <th>1</th>\n",
       "      <td>Afghanistan</td>\n",
       "      <td>2014</td>\n",
       "      <td>Developing</td>\n",
       "      <td>59.9</td>\n",
       "      <td>271.0</td>\n",
       "      <td>64</td>\n",
       "      <td>0.01</td>\n",
       "      <td>73.523582</td>\n",
       "      <td>62.0</td>\n",
       "      <td>492</td>\n",
       "      <td>...</td>\n",
       "      <td>58.0</td>\n",
       "      <td>8.18</td>\n",
       "      <td>62.0</td>\n",
       "      <td>0.1</td>\n",
       "      <td>612.696514</td>\n",
       "      <td>327582.0</td>\n",
       "      <td>17.5</td>\n",
       "      <td>17.5</td>\n",
       "      <td>0.476</td>\n",
       "      <td>10.0</td>\n",
       "    </tr>\n",
       "    <tr>\n",
       "      <th>2</th>\n",
       "      <td>Afghanistan</td>\n",
       "      <td>2013</td>\n",
       "      <td>Developing</td>\n",
       "      <td>59.9</td>\n",
       "      <td>268.0</td>\n",
       "      <td>66</td>\n",
       "      <td>0.01</td>\n",
       "      <td>73.219243</td>\n",
       "      <td>64.0</td>\n",
       "      <td>430</td>\n",
       "      <td>...</td>\n",
       "      <td>62.0</td>\n",
       "      <td>8.13</td>\n",
       "      <td>64.0</td>\n",
       "      <td>0.1</td>\n",
       "      <td>631.744976</td>\n",
       "      <td>31731688.0</td>\n",
       "      <td>17.7</td>\n",
       "      <td>17.7</td>\n",
       "      <td>0.470</td>\n",
       "      <td>9.9</td>\n",
       "    </tr>\n",
       "    <tr>\n",
       "      <th>3</th>\n",
       "      <td>Afghanistan</td>\n",
       "      <td>2012</td>\n",
       "      <td>Developing</td>\n",
       "      <td>59.5</td>\n",
       "      <td>272.0</td>\n",
       "      <td>69</td>\n",
       "      <td>0.01</td>\n",
       "      <td>78.184215</td>\n",
       "      <td>67.0</td>\n",
       "      <td>2787</td>\n",
       "      <td>...</td>\n",
       "      <td>67.0</td>\n",
       "      <td>8.52</td>\n",
       "      <td>67.0</td>\n",
       "      <td>0.1</td>\n",
       "      <td>669.959000</td>\n",
       "      <td>3696958.0</td>\n",
       "      <td>17.9</td>\n",
       "      <td>18.0</td>\n",
       "      <td>0.463</td>\n",
       "      <td>9.8</td>\n",
       "    </tr>\n",
       "    <tr>\n",
       "      <th>4</th>\n",
       "      <td>Afghanistan</td>\n",
       "      <td>2011</td>\n",
       "      <td>Developing</td>\n",
       "      <td>59.2</td>\n",
       "      <td>275.0</td>\n",
       "      <td>71</td>\n",
       "      <td>0.01</td>\n",
       "      <td>7.097109</td>\n",
       "      <td>68.0</td>\n",
       "      <td>3013</td>\n",
       "      <td>...</td>\n",
       "      <td>68.0</td>\n",
       "      <td>7.87</td>\n",
       "      <td>68.0</td>\n",
       "      <td>0.1</td>\n",
       "      <td>63.537231</td>\n",
       "      <td>2978599.0</td>\n",
       "      <td>18.2</td>\n",
       "      <td>18.2</td>\n",
       "      <td>0.454</td>\n",
       "      <td>9.5</td>\n",
       "    </tr>\n",
       "  </tbody>\n",
       "</table>\n",
       "<p>5 rows × 22 columns</p>\n",
       "</div>"
      ],
      "text/plain": [
       "       Country  Year      Status  Life expectancy  Adult Mortality  \\\n",
       "0  Afghanistan  2015  Developing             65.0            263.0   \n",
       "1  Afghanistan  2014  Developing             59.9            271.0   \n",
       "2  Afghanistan  2013  Developing             59.9            268.0   \n",
       "3  Afghanistan  2012  Developing             59.5            272.0   \n",
       "4  Afghanistan  2011  Developing             59.2            275.0   \n",
       "\n",
       "   infant deaths  Alcohol  percentage expenditure  Hepatitis B  Measles  ...  \\\n",
       "0             62     0.01               71.279624         65.0     1154  ...   \n",
       "1             64     0.01               73.523582         62.0      492  ...   \n",
       "2             66     0.01               73.219243         64.0      430  ...   \n",
       "3             69     0.01               78.184215         67.0     2787  ...   \n",
       "4             71     0.01                7.097109         68.0     3013  ...   \n",
       "\n",
       "   Polio  Total expenditure  Diphtheria  HIV/AIDS         GDP  Population  \\\n",
       "0    6.0               8.16        65.0       0.1  584.259210  33736494.0   \n",
       "1   58.0               8.18        62.0       0.1  612.696514    327582.0   \n",
       "2   62.0               8.13        64.0       0.1  631.744976  31731688.0   \n",
       "3   67.0               8.52        67.0       0.1  669.959000   3696958.0   \n",
       "4   68.0               7.87        68.0       0.1   63.537231   2978599.0   \n",
       "\n",
       "   thinness  1-19 years  thinness 5-9 years  Income composition of resources  \\\n",
       "0                  17.2                17.3                            0.479   \n",
       "1                  17.5                17.5                            0.476   \n",
       "2                  17.7                17.7                            0.470   \n",
       "3                  17.9                18.0                            0.463   \n",
       "4                  18.2                18.2                            0.454   \n",
       "\n",
       "   Schooling  \n",
       "0       10.1  \n",
       "1       10.0  \n",
       "2        9.9  \n",
       "3        9.8  \n",
       "4        9.5  \n",
       "\n",
       "[5 rows x 22 columns]"
      ]
     },
     "metadata": {},
     "output_type": "display_data"
    },
    {
     "name": "stdout",
     "output_type": "stream",
     "text": [
      "<class 'pandas.core.frame.DataFrame'>\n",
      "RangeIndex: 2718 entries, 0 to 2717\n",
      "Data columns (total 22 columns):\n",
      " #   Column                           Non-Null Count  Dtype  \n",
      "---  ------                           --------------  -----  \n",
      " 0   Country                          2718 non-null   object \n",
      " 1   Year                             2718 non-null   int64  \n",
      " 2   Status                           2718 non-null   object \n",
      " 3   Life expectancy                  2718 non-null   float64\n",
      " 4   Adult Mortality                  2718 non-null   float64\n",
      " 5   infant deaths                    2718 non-null   int64  \n",
      " 6   Alcohol                          2564 non-null   float64\n",
      " 7   percentage expenditure           2718 non-null   float64\n",
      " 8   Hepatitis B                      2188 non-null   float64\n",
      " 9   Measles                          2718 non-null   int64  \n",
      " 10  BMI                              2692 non-null   float64\n",
      " 11  under-five deaths                2718 non-null   int64  \n",
      " 12  Polio                            2700 non-null   float64\n",
      " 13  Total expenditure                2529 non-null   float64\n",
      " 14  Diphtheria                       2700 non-null   float64\n",
      " 15  HIV/AIDS                         2718 non-null   float64\n",
      " 16  GDP                              2317 non-null   float64\n",
      " 17  Population                       2116 non-null   float64\n",
      " 18  thinness  1-19 years             2692 non-null   float64\n",
      " 19  thinness 5-9 years               2692 non-null   float64\n",
      " 20  Income composition of resources  2576 non-null   float64\n",
      " 21  Schooling                        2576 non-null   float64\n",
      "dtypes: float64(16), int64(4), object(2)\n",
      "memory usage: 467.3+ KB\n"
     ]
    },
    {
     "data": {
      "text/plain": [
       "None"
      ]
     },
     "metadata": {},
     "output_type": "display_data"
    },
    {
     "data": {
      "text/plain": [
       "Country                             183\n",
       "Year                                 16\n",
       "Status                                2\n",
       "Life expectancy                     359\n",
       "Adult Mortality                     423\n",
       "infant deaths                       195\n",
       "Alcohol                            1055\n",
       "percentage expenditure             2185\n",
       "Hepatitis B                          87\n",
       "Measles                             909\n",
       "BMI                                 600\n",
       "under-five deaths                   239\n",
       "Polio                                73\n",
       "Total expenditure                   792\n",
       "Diphtheria                           81\n",
       "HIV/AIDS                            197\n",
       "GDP                                2317\n",
       "Population                         2110\n",
       "thinness  1-19 years                194\n",
       "thinness 5-9 years                  200\n",
       "Income composition of resources     613\n",
       "Schooling                           173\n",
       "dtype: int64"
      ]
     },
     "metadata": {},
     "output_type": "display_data"
    },
    {
     "data": {
      "text/html": [
       "<div>\n",
       "<style scoped>\n",
       "    .dataframe tbody tr th:only-of-type {\n",
       "        vertical-align: middle;\n",
       "    }\n",
       "\n",
       "    .dataframe tbody tr th {\n",
       "        vertical-align: top;\n",
       "    }\n",
       "\n",
       "    .dataframe thead th {\n",
       "        text-align: right;\n",
       "    }\n",
       "</style>\n",
       "<table border=\"1\" class=\"dataframe\">\n",
       "  <thead>\n",
       "    <tr style=\"text-align: right;\">\n",
       "      <th></th>\n",
       "      <th>Year</th>\n",
       "      <th>Life expectancy</th>\n",
       "      <th>Adult Mortality</th>\n",
       "      <th>infant deaths</th>\n",
       "      <th>Alcohol</th>\n",
       "      <th>percentage expenditure</th>\n",
       "      <th>Hepatitis B</th>\n",
       "      <th>Measles</th>\n",
       "      <th>BMI</th>\n",
       "      <th>under-five deaths</th>\n",
       "      <th>Polio</th>\n",
       "      <th>Total expenditure</th>\n",
       "      <th>Diphtheria</th>\n",
       "      <th>HIV/AIDS</th>\n",
       "      <th>GDP</th>\n",
       "      <th>Population</th>\n",
       "      <th>thinness  1-19 years</th>\n",
       "      <th>thinness 5-9 years</th>\n",
       "      <th>Income composition of resources</th>\n",
       "      <th>Schooling</th>\n",
       "    </tr>\n",
       "  </thead>\n",
       "  <tbody>\n",
       "    <tr>\n",
       "      <th>count</th>\n",
       "      <td>2718.000000</td>\n",
       "      <td>2718.000000</td>\n",
       "      <td>2718.000000</td>\n",
       "      <td>2718.000000</td>\n",
       "      <td>2564.000000</td>\n",
       "      <td>2718.000000</td>\n",
       "      <td>2188.000000</td>\n",
       "      <td>2718.000000</td>\n",
       "      <td>2692.000000</td>\n",
       "      <td>2718.000000</td>\n",
       "      <td>2700.000000</td>\n",
       "      <td>2529.000000</td>\n",
       "      <td>2700.000000</td>\n",
       "      <td>2718.000000</td>\n",
       "      <td>2317.000000</td>\n",
       "      <td>2.116000e+03</td>\n",
       "      <td>2692.000000</td>\n",
       "      <td>2692.000000</td>\n",
       "      <td>2576.000000</td>\n",
       "      <td>2576.000000</td>\n",
       "    </tr>\n",
       "    <tr>\n",
       "      <th>mean</th>\n",
       "      <td>2007.113687</td>\n",
       "      <td>69.204525</td>\n",
       "      <td>164.432303</td>\n",
       "      <td>30.825239</td>\n",
       "      <td>4.672512</td>\n",
       "      <td>757.071658</td>\n",
       "      <td>80.884826</td>\n",
       "      <td>2370.999632</td>\n",
       "      <td>38.314339</td>\n",
       "      <td>42.767476</td>\n",
       "      <td>82.528148</td>\n",
       "      <td>5.943606</td>\n",
       "      <td>82.135926</td>\n",
       "      <td>1.788263</td>\n",
       "      <td>7646.459541</td>\n",
       "      <td>1.261063e+07</td>\n",
       "      <td>4.892236</td>\n",
       "      <td>4.925149</td>\n",
       "      <td>0.626697</td>\n",
       "      <td>11.996079</td>\n",
       "    </tr>\n",
       "    <tr>\n",
       "      <th>std</th>\n",
       "      <td>4.537979</td>\n",
       "      <td>9.612530</td>\n",
       "      <td>125.512789</td>\n",
       "      <td>121.786599</td>\n",
       "      <td>4.051664</td>\n",
       "      <td>2007.472092</td>\n",
       "      <td>25.010075</td>\n",
       "      <td>11174.241799</td>\n",
       "      <td>19.954800</td>\n",
       "      <td>165.704415</td>\n",
       "      <td>23.294376</td>\n",
       "      <td>2.488801</td>\n",
       "      <td>23.849574</td>\n",
       "      <td>5.221587</td>\n",
       "      <td>14455.594394</td>\n",
       "      <td>6.238395e+07</td>\n",
       "      <td>4.434584</td>\n",
       "      <td>4.522269</td>\n",
       "      <td>0.213323</td>\n",
       "      <td>3.364109</td>\n",
       "    </tr>\n",
       "    <tr>\n",
       "      <th>min</th>\n",
       "      <td>2000.000000</td>\n",
       "      <td>36.300000</td>\n",
       "      <td>1.000000</td>\n",
       "      <td>0.000000</td>\n",
       "      <td>0.010000</td>\n",
       "      <td>0.000000</td>\n",
       "      <td>1.000000</td>\n",
       "      <td>0.000000</td>\n",
       "      <td>1.000000</td>\n",
       "      <td>0.000000</td>\n",
       "      <td>3.000000</td>\n",
       "      <td>0.370000</td>\n",
       "      <td>2.000000</td>\n",
       "      <td>0.100000</td>\n",
       "      <td>1.681350</td>\n",
       "      <td>3.400000e+01</td>\n",
       "      <td>0.100000</td>\n",
       "      <td>0.100000</td>\n",
       "      <td>0.000000</td>\n",
       "      <td>0.000000</td>\n",
       "    </tr>\n",
       "    <tr>\n",
       "      <th>25%</th>\n",
       "      <td>2003.000000</td>\n",
       "      <td>63.100000</td>\n",
       "      <td>73.250000</td>\n",
       "      <td>0.000000</td>\n",
       "      <td>0.990000</td>\n",
       "      <td>5.832385</td>\n",
       "      <td>77.000000</td>\n",
       "      <td>0.000000</td>\n",
       "      <td>19.200000</td>\n",
       "      <td>0.000000</td>\n",
       "      <td>77.000000</td>\n",
       "      <td>4.260000</td>\n",
       "      <td>78.000000</td>\n",
       "      <td>0.100000</td>\n",
       "      <td>459.291200</td>\n",
       "      <td>1.829220e+05</td>\n",
       "      <td>1.600000</td>\n",
       "      <td>1.600000</td>\n",
       "      <td>0.492000</td>\n",
       "      <td>10.100000</td>\n",
       "    </tr>\n",
       "    <tr>\n",
       "      <th>50%</th>\n",
       "      <td>2007.000000</td>\n",
       "      <td>72.200000</td>\n",
       "      <td>142.000000</td>\n",
       "      <td>3.000000</td>\n",
       "      <td>3.820000</td>\n",
       "      <td>67.687008</td>\n",
       "      <td>92.000000</td>\n",
       "      <td>18.000000</td>\n",
       "      <td>43.450000</td>\n",
       "      <td>4.000000</td>\n",
       "      <td>93.000000</td>\n",
       "      <td>5.730000</td>\n",
       "      <td>93.000000</td>\n",
       "      <td>0.100000</td>\n",
       "      <td>1741.142552</td>\n",
       "      <td>1.365022e+06</td>\n",
       "      <td>3.400000</td>\n",
       "      <td>3.400000</td>\n",
       "      <td>0.679000</td>\n",
       "      <td>12.300000</td>\n",
       "    </tr>\n",
       "    <tr>\n",
       "      <th>75%</th>\n",
       "      <td>2011.000000</td>\n",
       "      <td>75.800000</td>\n",
       "      <td>227.000000</td>\n",
       "      <td>22.000000</td>\n",
       "      <td>7.832500</td>\n",
       "      <td>446.887709</td>\n",
       "      <td>97.000000</td>\n",
       "      <td>372.000000</td>\n",
       "      <td>56.100000</td>\n",
       "      <td>28.000000</td>\n",
       "      <td>97.000000</td>\n",
       "      <td>7.530000</td>\n",
       "      <td>97.000000</td>\n",
       "      <td>0.800000</td>\n",
       "      <td>6337.882993</td>\n",
       "      <td>7.383590e+06</td>\n",
       "      <td>7.200000</td>\n",
       "      <td>7.300000</td>\n",
       "      <td>0.781000</td>\n",
       "      <td>14.300000</td>\n",
       "    </tr>\n",
       "    <tr>\n",
       "      <th>max</th>\n",
       "      <td>2015.000000</td>\n",
       "      <td>89.000000</td>\n",
       "      <td>723.000000</td>\n",
       "      <td>1800.000000</td>\n",
       "      <td>17.870000</td>\n",
       "      <td>19479.911610</td>\n",
       "      <td>99.000000</td>\n",
       "      <td>212183.000000</td>\n",
       "      <td>77.600000</td>\n",
       "      <td>2500.000000</td>\n",
       "      <td>99.000000</td>\n",
       "      <td>17.600000</td>\n",
       "      <td>99.000000</td>\n",
       "      <td>50.600000</td>\n",
       "      <td>119172.741800</td>\n",
       "      <td>1.293859e+09</td>\n",
       "      <td>27.700000</td>\n",
       "      <td>28.600000</td>\n",
       "      <td>0.938000</td>\n",
       "      <td>20.700000</td>\n",
       "    </tr>\n",
       "  </tbody>\n",
       "</table>\n",
       "</div>"
      ],
      "text/plain": [
       "              Year  Life expectancy  Adult Mortality  infant deaths  \\\n",
       "count  2718.000000      2718.000000      2718.000000    2718.000000   \n",
       "mean   2007.113687        69.204525       164.432303      30.825239   \n",
       "std       4.537979         9.612530       125.512789     121.786599   \n",
       "min    2000.000000        36.300000         1.000000       0.000000   \n",
       "25%    2003.000000        63.100000        73.250000       0.000000   \n",
       "50%    2007.000000        72.200000       142.000000       3.000000   \n",
       "75%    2011.000000        75.800000       227.000000      22.000000   \n",
       "max    2015.000000        89.000000       723.000000    1800.000000   \n",
       "\n",
       "           Alcohol  percentage expenditure  Hepatitis B        Measles  \\\n",
       "count  2564.000000             2718.000000  2188.000000    2718.000000   \n",
       "mean      4.672512              757.071658    80.884826    2370.999632   \n",
       "std       4.051664             2007.472092    25.010075   11174.241799   \n",
       "min       0.010000                0.000000     1.000000       0.000000   \n",
       "25%       0.990000                5.832385    77.000000       0.000000   \n",
       "50%       3.820000               67.687008    92.000000      18.000000   \n",
       "75%       7.832500              446.887709    97.000000     372.000000   \n",
       "max      17.870000            19479.911610    99.000000  212183.000000   \n",
       "\n",
       "               BMI  under-five deaths        Polio  Total expenditure  \\\n",
       "count  2692.000000        2718.000000  2700.000000        2529.000000   \n",
       "mean     38.314339          42.767476    82.528148           5.943606   \n",
       "std      19.954800         165.704415    23.294376           2.488801   \n",
       "min       1.000000           0.000000     3.000000           0.370000   \n",
       "25%      19.200000           0.000000    77.000000           4.260000   \n",
       "50%      43.450000           4.000000    93.000000           5.730000   \n",
       "75%      56.100000          28.000000    97.000000           7.530000   \n",
       "max      77.600000        2500.000000    99.000000          17.600000   \n",
       "\n",
       "        Diphtheria     HIV/AIDS            GDP    Population  \\\n",
       "count  2700.000000  2718.000000    2317.000000  2.116000e+03   \n",
       "mean     82.135926     1.788263    7646.459541  1.261063e+07   \n",
       "std      23.849574     5.221587   14455.594394  6.238395e+07   \n",
       "min       2.000000     0.100000       1.681350  3.400000e+01   \n",
       "25%      78.000000     0.100000     459.291200  1.829220e+05   \n",
       "50%      93.000000     0.100000    1741.142552  1.365022e+06   \n",
       "75%      97.000000     0.800000    6337.882993  7.383590e+06   \n",
       "max      99.000000    50.600000  119172.741800  1.293859e+09   \n",
       "\n",
       "       thinness  1-19 years  thinness 5-9 years  \\\n",
       "count           2692.000000         2692.000000   \n",
       "mean               4.892236            4.925149   \n",
       "std                4.434584            4.522269   \n",
       "min                0.100000            0.100000   \n",
       "25%                1.600000            1.600000   \n",
       "50%                3.400000            3.400000   \n",
       "75%                7.200000            7.300000   \n",
       "max               27.700000           28.600000   \n",
       "\n",
       "       Income composition of resources    Schooling  \n",
       "count                      2576.000000  2576.000000  \n",
       "mean                          0.626697    11.996079  \n",
       "std                           0.213323     3.364109  \n",
       "min                           0.000000     0.000000  \n",
       "25%                           0.492000    10.100000  \n",
       "50%                           0.679000    12.300000  \n",
       "75%                           0.781000    14.300000  \n",
       "max                           0.938000    20.700000  "
      ]
     },
     "metadata": {},
     "output_type": "display_data"
    }
   ],
   "source": [
    "df = pd.read_csv('data.csv')\n",
    "display(df.shape)\n",
    "display(df.head())\n",
    "display(df.info())\n",
    "display(df.nunique())\n",
    "display(df.describe())"
   ]
  },
  {
   "cell_type": "code",
   "execution_count": 3,
   "id": "ba85b57a-fa00-4fb7-8288-26c661edbab6",
   "metadata": {},
   "outputs": [
    {
     "data": {
      "text/plain": [
       "Index(['Country', 'Year', 'Status', 'Life expectancy', 'Adult Mortality',\n",
       "       'infant deaths', 'Alcohol', 'percentage expenditure', 'Hepatitis B',\n",
       "       'Measles', 'BMI', 'under-five deaths', 'Polio', 'Total expenditure',\n",
       "       'Diphtheria', 'HIV/AIDS', 'GDP', 'Population', 'thinness  1-19 years',\n",
       "       'thinness 5-9 years', 'Income composition of resources', 'Schooling'],\n",
       "      dtype='object')"
      ]
     },
     "execution_count": 3,
     "metadata": {},
     "output_type": "execute_result"
    }
   ],
   "source": [
    "df.columns"
   ]
  },
  {
   "cell_type": "markdown",
   "id": "5d3edebb-117b-4ce9-adb2-ded8dacebdf8",
   "metadata": {},
   "source": [
    "Nahradím textové hodnoty numerickými tak, aby se zachovalo pořádí 'Deloping' < 'Developed'."
   ]
  },
  {
   "cell_type": "code",
   "execution_count": 4,
   "id": "7613b415-30b4-488a-8bff-d76f86af4a69",
   "metadata": {},
   "outputs": [],
   "source": [
    "status_category = pd.api.types.CategoricalDtype(categories=['Developing', 'Developed'], ordered=True)\n",
    "\n",
    "df['Status'] = df['Status'].astype(status_category)"
   ]
  },
  {
   "cell_type": "code",
   "execution_count": 5,
   "id": "b881e428-3192-46e5-82d8-7a1d1b38de16",
   "metadata": {},
   "outputs": [
    {
     "data": {
      "text/plain": [
       "['Developing', 'Developed']\n",
       "Categories (2, object): ['Developing' < 'Developed']"
      ]
     },
     "execution_count": 5,
     "metadata": {},
     "output_type": "execute_result"
    }
   ],
   "source": [
    "df['Status'].unique()"
   ]
  },
  {
   "cell_type": "markdown",
   "id": "6a21c6da-c7b9-4954-9b62-9866621522d1",
   "metadata": {},
   "source": [
    "Převedeme všechny kategorické sloupce na číselné. "
   ]
  },
  {
   "cell_type": "code",
   "execution_count": 6,
   "id": "a4a1d63a-5dc2-40b0-b58a-6634eb86cff0",
   "metadata": {},
   "outputs": [],
   "source": [
    "for col in df.select_dtypes('category').columns:\n",
    "    df[col] = df[col].cat.codes"
   ]
  },
  {
   "cell_type": "code",
   "execution_count": 7,
   "id": "6a61c4cd-fdab-48fb-a1a5-69cb07fcbfe0",
   "metadata": {},
   "outputs": [],
   "source": [
    "string_cols = df.select_dtypes(['object']).columns\n",
    "df[string_cols] = df[string_cols].astype('category').apply(lambda x: x.cat.codes)"
   ]
  },
  {
   "cell_type": "code",
   "execution_count": 8,
   "id": "f1de801e-8416-4657-b051-c39318b28937",
   "metadata": {},
   "outputs": [
    {
     "data": {
      "text/html": [
       "<div>\n",
       "<style scoped>\n",
       "    .dataframe tbody tr th:only-of-type {\n",
       "        vertical-align: middle;\n",
       "    }\n",
       "\n",
       "    .dataframe tbody tr th {\n",
       "        vertical-align: top;\n",
       "    }\n",
       "\n",
       "    .dataframe thead th {\n",
       "        text-align: right;\n",
       "    }\n",
       "</style>\n",
       "<table border=\"1\" class=\"dataframe\">\n",
       "  <thead>\n",
       "    <tr style=\"text-align: right;\">\n",
       "      <th></th>\n",
       "      <th>Country</th>\n",
       "      <th>Year</th>\n",
       "      <th>Status</th>\n",
       "      <th>Life expectancy</th>\n",
       "      <th>Adult Mortality</th>\n",
       "      <th>infant deaths</th>\n",
       "      <th>Alcohol</th>\n",
       "      <th>percentage expenditure</th>\n",
       "      <th>Hepatitis B</th>\n",
       "      <th>Measles</th>\n",
       "      <th>...</th>\n",
       "      <th>Polio</th>\n",
       "      <th>Total expenditure</th>\n",
       "      <th>Diphtheria</th>\n",
       "      <th>HIV/AIDS</th>\n",
       "      <th>GDP</th>\n",
       "      <th>Population</th>\n",
       "      <th>thinness  1-19 years</th>\n",
       "      <th>thinness 5-9 years</th>\n",
       "      <th>Income composition of resources</th>\n",
       "      <th>Schooling</th>\n",
       "    </tr>\n",
       "  </thead>\n",
       "  <tbody>\n",
       "    <tr>\n",
       "      <th>0</th>\n",
       "      <td>0</td>\n",
       "      <td>2015</td>\n",
       "      <td>0</td>\n",
       "      <td>65.0</td>\n",
       "      <td>263.0</td>\n",
       "      <td>62</td>\n",
       "      <td>0.01</td>\n",
       "      <td>71.279624</td>\n",
       "      <td>65.0</td>\n",
       "      <td>1154</td>\n",
       "      <td>...</td>\n",
       "      <td>6.0</td>\n",
       "      <td>8.16</td>\n",
       "      <td>65.0</td>\n",
       "      <td>0.1</td>\n",
       "      <td>584.259210</td>\n",
       "      <td>33736494.0</td>\n",
       "      <td>17.2</td>\n",
       "      <td>17.3</td>\n",
       "      <td>0.479</td>\n",
       "      <td>10.1</td>\n",
       "    </tr>\n",
       "    <tr>\n",
       "      <th>1</th>\n",
       "      <td>0</td>\n",
       "      <td>2014</td>\n",
       "      <td>0</td>\n",
       "      <td>59.9</td>\n",
       "      <td>271.0</td>\n",
       "      <td>64</td>\n",
       "      <td>0.01</td>\n",
       "      <td>73.523582</td>\n",
       "      <td>62.0</td>\n",
       "      <td>492</td>\n",
       "      <td>...</td>\n",
       "      <td>58.0</td>\n",
       "      <td>8.18</td>\n",
       "      <td>62.0</td>\n",
       "      <td>0.1</td>\n",
       "      <td>612.696514</td>\n",
       "      <td>327582.0</td>\n",
       "      <td>17.5</td>\n",
       "      <td>17.5</td>\n",
       "      <td>0.476</td>\n",
       "      <td>10.0</td>\n",
       "    </tr>\n",
       "    <tr>\n",
       "      <th>2</th>\n",
       "      <td>0</td>\n",
       "      <td>2013</td>\n",
       "      <td>0</td>\n",
       "      <td>59.9</td>\n",
       "      <td>268.0</td>\n",
       "      <td>66</td>\n",
       "      <td>0.01</td>\n",
       "      <td>73.219243</td>\n",
       "      <td>64.0</td>\n",
       "      <td>430</td>\n",
       "      <td>...</td>\n",
       "      <td>62.0</td>\n",
       "      <td>8.13</td>\n",
       "      <td>64.0</td>\n",
       "      <td>0.1</td>\n",
       "      <td>631.744976</td>\n",
       "      <td>31731688.0</td>\n",
       "      <td>17.7</td>\n",
       "      <td>17.7</td>\n",
       "      <td>0.470</td>\n",
       "      <td>9.9</td>\n",
       "    </tr>\n",
       "    <tr>\n",
       "      <th>3</th>\n",
       "      <td>0</td>\n",
       "      <td>2012</td>\n",
       "      <td>0</td>\n",
       "      <td>59.5</td>\n",
       "      <td>272.0</td>\n",
       "      <td>69</td>\n",
       "      <td>0.01</td>\n",
       "      <td>78.184215</td>\n",
       "      <td>67.0</td>\n",
       "      <td>2787</td>\n",
       "      <td>...</td>\n",
       "      <td>67.0</td>\n",
       "      <td>8.52</td>\n",
       "      <td>67.0</td>\n",
       "      <td>0.1</td>\n",
       "      <td>669.959000</td>\n",
       "      <td>3696958.0</td>\n",
       "      <td>17.9</td>\n",
       "      <td>18.0</td>\n",
       "      <td>0.463</td>\n",
       "      <td>9.8</td>\n",
       "    </tr>\n",
       "    <tr>\n",
       "      <th>4</th>\n",
       "      <td>0</td>\n",
       "      <td>2011</td>\n",
       "      <td>0</td>\n",
       "      <td>59.2</td>\n",
       "      <td>275.0</td>\n",
       "      <td>71</td>\n",
       "      <td>0.01</td>\n",
       "      <td>7.097109</td>\n",
       "      <td>68.0</td>\n",
       "      <td>3013</td>\n",
       "      <td>...</td>\n",
       "      <td>68.0</td>\n",
       "      <td>7.87</td>\n",
       "      <td>68.0</td>\n",
       "      <td>0.1</td>\n",
       "      <td>63.537231</td>\n",
       "      <td>2978599.0</td>\n",
       "      <td>18.2</td>\n",
       "      <td>18.2</td>\n",
       "      <td>0.454</td>\n",
       "      <td>9.5</td>\n",
       "    </tr>\n",
       "  </tbody>\n",
       "</table>\n",
       "<p>5 rows × 22 columns</p>\n",
       "</div>"
      ],
      "text/plain": [
       "   Country  Year  Status  Life expectancy  Adult Mortality  infant deaths  \\\n",
       "0        0  2015       0             65.0            263.0             62   \n",
       "1        0  2014       0             59.9            271.0             64   \n",
       "2        0  2013       0             59.9            268.0             66   \n",
       "3        0  2012       0             59.5            272.0             69   \n",
       "4        0  2011       0             59.2            275.0             71   \n",
       "\n",
       "   Alcohol  percentage expenditure  Hepatitis B  Measles  ...  Polio  \\\n",
       "0     0.01               71.279624         65.0     1154  ...    6.0   \n",
       "1     0.01               73.523582         62.0      492  ...   58.0   \n",
       "2     0.01               73.219243         64.0      430  ...   62.0   \n",
       "3     0.01               78.184215         67.0     2787  ...   67.0   \n",
       "4     0.01                7.097109         68.0     3013  ...   68.0   \n",
       "\n",
       "   Total expenditure  Diphtheria  HIV/AIDS         GDP  Population  \\\n",
       "0               8.16        65.0       0.1  584.259210  33736494.0   \n",
       "1               8.18        62.0       0.1  612.696514    327582.0   \n",
       "2               8.13        64.0       0.1  631.744976  31731688.0   \n",
       "3               8.52        67.0       0.1  669.959000   3696958.0   \n",
       "4               7.87        68.0       0.1   63.537231   2978599.0   \n",
       "\n",
       "   thinness  1-19 years  thinness 5-9 years  Income composition of resources  \\\n",
       "0                  17.2                17.3                            0.479   \n",
       "1                  17.5                17.5                            0.476   \n",
       "2                  17.7                17.7                            0.470   \n",
       "3                  17.9                18.0                            0.463   \n",
       "4                  18.2                18.2                            0.454   \n",
       "\n",
       "   Schooling  \n",
       "0       10.1  \n",
       "1       10.0  \n",
       "2        9.9  \n",
       "3        9.8  \n",
       "4        9.5  \n",
       "\n",
       "[5 rows x 22 columns]"
      ]
     },
     "metadata": {},
     "output_type": "display_data"
    },
    {
     "name": "stdout",
     "output_type": "stream",
     "text": [
      "<class 'pandas.core.frame.DataFrame'>\n",
      "RangeIndex: 2718 entries, 0 to 2717\n",
      "Data columns (total 22 columns):\n",
      " #   Column                           Non-Null Count  Dtype  \n",
      "---  ------                           --------------  -----  \n",
      " 0   Country                          2718 non-null   int16  \n",
      " 1   Year                             2718 non-null   int64  \n",
      " 2   Status                           2718 non-null   int8   \n",
      " 3   Life expectancy                  2718 non-null   float64\n",
      " 4   Adult Mortality                  2718 non-null   float64\n",
      " 5   infant deaths                    2718 non-null   int64  \n",
      " 6   Alcohol                          2564 non-null   float64\n",
      " 7   percentage expenditure           2718 non-null   float64\n",
      " 8   Hepatitis B                      2188 non-null   float64\n",
      " 9   Measles                          2718 non-null   int64  \n",
      " 10  BMI                              2692 non-null   float64\n",
      " 11  under-five deaths                2718 non-null   int64  \n",
      " 12  Polio                            2700 non-null   float64\n",
      " 13  Total expenditure                2529 non-null   float64\n",
      " 14  Diphtheria                       2700 non-null   float64\n",
      " 15  HIV/AIDS                         2718 non-null   float64\n",
      " 16  GDP                              2317 non-null   float64\n",
      " 17  Population                       2116 non-null   float64\n",
      " 18  thinness  1-19 years             2692 non-null   float64\n",
      " 19  thinness 5-9 years               2692 non-null   float64\n",
      " 20  Income composition of resources  2576 non-null   float64\n",
      " 21  Schooling                        2576 non-null   float64\n",
      "dtypes: float64(16), int16(1), int64(4), int8(1)\n",
      "memory usage: 432.8 KB\n"
     ]
    },
    {
     "data": {
      "text/plain": [
       "None"
      ]
     },
     "metadata": {},
     "output_type": "display_data"
    }
   ],
   "source": [
    "display(df.head())\n",
    "display(df.info())"
   ]
  },
  {
   "cell_type": "code",
   "execution_count": 9,
   "id": "d06956b3-7991-46bc-b16a-686f8f716f02",
   "metadata": {},
   "outputs": [
    {
     "data": {
      "text/plain": [
       "Country                              0\n",
       "Year                                 0\n",
       "Status                               0\n",
       "Life expectancy                      0\n",
       "Adult Mortality                      0\n",
       "infant deaths                        0\n",
       "Alcohol                            154\n",
       "percentage expenditure               0\n",
       "Hepatitis B                        530\n",
       "Measles                              0\n",
       "BMI                                 26\n",
       "under-five deaths                    0\n",
       "Polio                               18\n",
       "Total expenditure                  189\n",
       "Diphtheria                          18\n",
       "HIV/AIDS                             0\n",
       "GDP                                401\n",
       "Population                         602\n",
       "thinness  1-19 years                26\n",
       "thinness 5-9 years                  26\n",
       "Income composition of resources    142\n",
       "Schooling                          142\n",
       "dtype: int64"
      ]
     },
     "execution_count": 9,
     "metadata": {},
     "output_type": "execute_result"
    }
   ],
   "source": [
    "df.isnull().sum(axis=0)"
   ]
  },
  {
   "cell_type": "markdown",
   "id": "74dbd52a-20b3-40a2-b89f-7506630e8c07",
   "metadata": {},
   "source": [
    "Vidíme, že je numerická data obsahují chybějící hodnoty. Po rozdělení dat na skupiny, nahradíme je střední hodnotou trénovacích dat zvlašt pro každý sloupec."
   ]
  },
  {
   "cell_type": "markdown",
   "id": "52c0e9da-c63f-442d-9eef-f3c127428e25",
   "metadata": {},
   "source": [
    "Vizualizace očekávané délky života"
   ]
  },
  {
   "cell_type": "code",
   "execution_count": 10,
   "id": "852a1b1b-7b06-4ddf-a810-6a85214fcc42",
   "metadata": {},
   "outputs": [
    {
     "data": {
      "image/png": "[encoded data removed]",
      "text/plain": [
       "<Figure size 800x600 with 1 Axes>"
      ]
     },
     "metadata": {},
     "output_type": "display_data"
    }
   ],
   "source": [
    "plt.figure(figsize=(8,6))\n",
    "\n",
    "sns.histplot(df['Life expectancy'], color='lightgreen')\n",
    "plt.title('Life Expectancy by Age')\n",
    "\n",
    "plt.show()"
   ]
  },
  {
   "cell_type": "markdown",
   "id": "1e0c3f59-293e-4dbb-8822-aaa311cac55d",
   "metadata": {},
   "source": [
    "## II. Použítí modelů machine learningu"
   ]
  },
  {
   "cell_type": "markdown",
   "id": "ed2aac88-9cac-401d-852f-aa9512612755",
   "metadata": {},
   "source": [
    "### II(a). Rozdělení dat"
   ]
  },
  {
   "cell_type": "markdown",
   "id": "3258f353-6165-4150-8e0e-b216a96e298c",
   "metadata": {},
   "source": [
    "Nejperve, rozdělíme si dataset na cílovou proměnnou (v našem případě to je 'Life expectancy'), kterou chceme predikovat, a na matici příznaků, pomocí kterou budeme predikovat."
   ]
  },
  {
   "cell_type": "code",
   "execution_count": 11,
   "id": "94900b83-acb2-489a-bdeb-857840576206",
   "metadata": {},
   "outputs": [],
   "source": [
    "from sklearn.model_selection import train_test_split\n",
    "\n",
    "Xdata = df.drop('Life expectancy', axis=1)\n",
    "ydata = df['Life expectancy']"
   ]
  },
  {
   "cell_type": "markdown",
   "id": "4c808f39-dd9a-4a15-95f4-6fd5e5ad25e1",
   "metadata": {},
   "source": [
    "Ted' už rozdělíme data na trénovací a testovací množiny v poměru 60:40."
   ]
  },
  {
   "cell_type": "code",
   "execution_count": 12,
   "id": "ba21a00d-3763-4713-9da8-ba782e769fd3",
   "metadata": {},
   "outputs": [
    {
     "data": {
      "text/plain": [
       "(1630, 21)"
      ]
     },
     "metadata": {},
     "output_type": "display_data"
    },
    {
     "data": {
      "text/plain": [
       "(1630,)"
      ]
     },
     "metadata": {},
     "output_type": "display_data"
    },
    {
     "data": {
      "text/plain": [
       "(1088, 21)"
      ]
     },
     "metadata": {},
     "output_type": "display_data"
    },
    {
     "data": {
      "text/plain": [
       "(1088,)"
      ]
     },
     "metadata": {},
     "output_type": "display_data"
    }
   ],
   "source": [
    "rd_seed = 100\n",
    "\n",
    "Xtrain, Xtest, ytrain, ytest = train_test_split(Xdata, ydata, test_size=0.4, random_state=rd_seed) \n",
    "display(Xtrain.shape)\n",
    "display(ytrain.shape)\n",
    "display(Xtest.shape)\n",
    "display(ytest.shape)"
   ]
  },
  {
   "cell_type": "markdown",
   "id": "d731deb7-468c-4fbf-bb79-3697403bb1dc",
   "metadata": {},
   "source": [
    "Vypořádáme se s chybějícímy hodnotami.\n",
    "\n",
    "Zaprvé, najděme sloupce, které obsahují nullová data. A spočítáme mediánové hodnoty pro každý jednotlivý sloupec v trénovacím datasetu."
   ]
  },
  {
   "cell_type": "code",
   "execution_count": 13,
   "id": "0fa76f53-0702-410b-b2a0-0bf57d327cf9",
   "metadata": {},
   "outputs": [],
   "source": [
    "median_values = Xtrain.median()\n",
    "\n",
    "columns_with_nan = list(df.columns[df.isna().any()])"
   ]
  },
  {
   "cell_type": "markdown",
   "id": "470b18ea-eb51-4bbe-8dcc-90ddb9661e86",
   "metadata": {},
   "source": [
    "Vypořádáme se s chybějícímy hodnotami ve trénovacím datasetu následujícím způsobem. Rozdělime ho podle zemí. Pokud všechny záznamy pro tento sploupec této země chybí, tak je nahradíme mediánovou hodnotou, kterou jsme spočetli. Pokud jsou tam nullové i skutečné hodnoty, tak nahradíme chybějící data mediánovou hodnotou tohoto sloupce téte konkrétní země."
   ]
  },
  {
   "cell_type": "code",
   "execution_count": 14,
   "id": "bbff76c1-5d1a-4839-869a-e00352911b87",
   "metadata": {},
   "outputs": [],
   "source": [
    "for country in Xtrain['Country'].unique():\n",
    "    country_data = Xtrain[Xtrain['Country'] == country]\n",
    "    for column in columns_with_nan:\n",
    "        is_all_nan = country_data[column].isna().all()\n",
    "        if is_all_nan:\n",
    "            Xtrain.loc[Xtrain['Country'] == country, column] = median_values[column]\n",
    "        else:\n",
    "            median_value_country = country_data[column].median()\n",
    "            Xtrain.loc[Xtrain['Country'] == country, column] = Xtrain.loc[Xtrain['Country'] == country, column].fillna(median_value_country)"
   ]
  },
  {
   "cell_type": "markdown",
   "id": "4ae37484-6719-4ff1-baad-c2f8c93e760e",
   "metadata": {},
   "source": [
    "V testovacím datasetu prostě nahradíme chybející data mediánovou hodnotou původního trénovacího datatsetu."
   ]
  },
  {
   "cell_type": "code",
   "execution_count": 15,
   "id": "9b133901-0c5c-462b-b558-12175057c667",
   "metadata": {},
   "outputs": [],
   "source": [
    "for column in columns_with_nan:\n",
    "    Xtest[column] = Xtest[column].fillna(median_values[column])"
   ]
  },
  {
   "cell_type": "markdown",
   "id": "026d9d4b-32db-4514-a8fe-c5ad935b3673",
   "metadata": {},
   "source": [
    "Rozdělíme testovací množinu na validační a testovací."
   ]
  },
  {
   "cell_type": "code",
   "execution_count": 16,
   "id": "3a0c451f-093f-4cd2-9cfc-e1ee3e014f25",
   "metadata": {},
   "outputs": [
    {
     "data": {
      "text/plain": [
       "(544, 21)"
      ]
     },
     "metadata": {},
     "output_type": "display_data"
    },
    {
     "data": {
      "text/plain": [
       "(544,)"
      ]
     },
     "metadata": {},
     "output_type": "display_data"
    },
    {
     "data": {
      "text/plain": [
       "(544, 21)"
      ]
     },
     "metadata": {},
     "output_type": "display_data"
    },
    {
     "data": {
      "text/plain": [
       "(544,)"
      ]
     },
     "metadata": {},
     "output_type": "display_data"
    }
   ],
   "source": [
    "Xval, Xtest, yval, ytest = train_test_split(Xtest, ytest, test_size=0.5, random_state=rd_seed) \n",
    "display(Xval.shape)\n",
    "display(yval.shape)\n",
    "display(Xtest.shape)\n",
    "display(ytest.shape)"
   ]
  },
  {
   "cell_type": "markdown",
   "id": "3c01f030-8107-4901-a9b1-dfe169556bf4",
   "metadata": {},
   "source": [
    "Zkontroluju problém kolinearity (lineární závislost sloupců) pomocí VIF metody. Pokud hodnota VIF = 1, tak nejsou sloupce korelované. Pokud 1 < VIF < 5, tak jsou sloupce lehce korelované. Pokud VIF >= 5, tak jsou sloupce korelované. "
   ]
  },
  {
   "cell_type": "code",
   "execution_count": 17,
   "id": "96f5d321-f7e3-44db-93c1-268d394a58fd",
   "metadata": {},
   "outputs": [
    {
     "name": "stdout",
     "output_type": "stream",
     "text": [
      "                           Variable         VIF\n",
      "0                             const   56.264458\n",
      "1                   Adult Mortality    1.682474\n",
      "2                     infant deaths  200.999010\n",
      "3                           Alcohol    1.627165\n",
      "4            percentage expenditure    5.930558\n",
      "5                       Hepatitis B    1.639568\n",
      "6                           Measles    1.407479\n",
      "7                               BMI    1.720270\n",
      "8                 under-five deaths  200.552874\n",
      "9                             Polio    2.246039\n",
      "10                Total expenditure    1.221944\n",
      "11                       Diphtheria    2.551417\n",
      "12               thinness 5-9 years    8.407305\n",
      "13                         HIV/AIDS    1.410312\n",
      "14                              GDP    6.265873\n",
      "15                       Population    1.703238\n",
      "16             thinness  1-19 years    8.374457\n",
      "17  Income composition of resources    3.163158\n",
      "18                        Schooling    3.580232\n"
     ]
    }
   ],
   "source": [
    "#postup byl inspiroven strankou https://www.statology.org/multicollinearity-in-python/\n",
    "\n",
    "from statsmodels.stats.outliers_influence import variance_inflation_factor\n",
    "from statsmodels.tools.tools import add_constant\n",
    "\n",
    "selected_columns = ['Adult Mortality', 'infant deaths', 'Alcohol', 'percentage expenditure',\n",
    "                      'Hepatitis B', 'Measles', 'BMI', 'under-five deaths', \n",
    "                      'Polio', 'Total expenditure', 'Diphtheria', 'thinness 5-9 years',\n",
    "                     'HIV/AIDS', 'GDP', 'Population', 'thinness  1-19 years',\n",
    "                     'Income composition of resources', 'Schooling']\n",
    "\n",
    "X = Xtrain[selected_columns]\n",
    "\n",
    "X_with_constant = add_constant(X)\n",
    "\n",
    "vif_data = pd.DataFrame()\n",
    "vif_data[\"Variable\"] = X_with_constant.columns\n",
    "vif_data[\"VIF\"] = [variance_inflation_factor(X_with_constant.values, i) for i in range(X_with_constant.shape[1])]\n",
    "\n",
    "print(vif_data)"
   ]
  },
  {
   "cell_type": "markdown",
   "id": "c3ecb1a8-51f6-42ff-902a-f8aa9ade1352",
   "metadata": {},
   "source": [
    "Můžeme udělat závěr, že sloupce 'infant deaths', 'under-five deaths' a 'thinness 5-9 years', 'thinness  1-19 years' mají velké VIF hodnoty, tedy josu silně korelované mezi sebou. Proto to nemá smysl implementovat model lineární regrese, ale pro jasnost můžeme udělat porovnání modelů lineární a hřebenové regrese."
   ]
  },
  {
   "cell_type": "markdown",
   "id": "9c1eac35-e623-4388-bb10-8cd8bef7b194",
   "metadata": {},
   "source": [
    "Odstraním sloupec 'Country', protože logicky očekavaná délka života vůbec nezaleží na zemi, ostatní sloupce na ní mají mnohem větší vliv"
   ]
  },
  {
   "cell_type": "code",
   "execution_count": 18,
   "id": "f953dd53-16a6-46fb-91b0-1b5c0c1b7b91",
   "metadata": {},
   "outputs": [],
   "source": [
    "Xtrain = Xtrain.drop(['Country'], axis=1)\n",
    "Xval = Xval.drop(['Country'], axis=1)\n",
    "Xtest = Xtest.drop(['Country'], axis=1)"
   ]
  },
  {
   "cell_type": "markdown",
   "id": "a15f7a98-73cc-437c-ab3a-058cd158c94b",
   "metadata": {},
   "source": [
    "### II(b). Implementace a použití modelů RandomForest"
   ]
  },
  {
   "cell_type": "markdown",
   "id": "891c516d-f915-4bd1-a55c-2c210009354e",
   "metadata": {},
   "source": [
    "Implementuju svou vlastní model náhodného lesa."
   ]
  },
  {
   "cell_type": "code",
   "execution_count": 19,
   "id": "4b0cebd5-4097-4ff7-ba8c-ac1f662a38c4",
   "metadata": {},
   "outputs": [],
   "source": [
    "#postup byl inspirovan postupem https://chat.openai.com/\n",
    "\n",
    "import numpy as np\n",
    "from sklearn.tree import DecisionTreeRegressor\n",
    "\n",
    "class CustomRandomForest:\n",
    "    \"\"\"\n",
    "    Třída Vašeho modelu\n",
    "    Bude se jednat o model náhodného lesa, kde podmodely tvoří rozhodovací stromy pro regresi.\n",
    "    Pro podmodely můžete použít implementaci DecisionTreeRegressor ze sklearn.\n",
    "    \"\"\"\n",
    "    def __init__(self, n_estimators, max_samples, max_depth, **kwargs):\n",
    "        \"\"\"\n",
    "        Konstruktor modelu\n",
    "        Základní hyperparametery:\n",
    "            n_estimators - počet podmodelů - rozhodovacích stromů.\n",
    "            max_samples - vyberte si, zda tento parametr bude označovat relativní počet bodů (tj. číslo mezi 0 a 1) \n",
    "                          nebo absolutní počet bodů (tj. číslo mezi 1 a velikostí trénovací množiny), \n",
    "                          které budou pro každý podmodel rozhodovacího stromu náhodně vybrány z trénovací množiny (bootstrap) a použity k jeho trénování.\n",
    "            max_depth - maximální hloubka každého z podmodelů rozhodovacího stromu.\n",
    "            kwargs - (volitelně) případné další hyperparametry, které pošlete do podmodelů rozhodovacího stromu\n",
    "        \"\"\"\n",
    "        #definujeme vlastnosti nase tridy\n",
    "        self.n_estimators = n_estimators\n",
    "        self.max_samples = max_samples\n",
    "        self.max_depth = max_depth\n",
    "        self.kwargs = kwargs\n",
    "        self.models = []\n",
    "\n",
    "    def fit(self, X, y):\n",
    "        \"\"\"\n",
    "        Natrénování modelu. Trénovací data jsou v argumentech X a y.\n",
    "        Pro trénování podmodelů používejte bootstraping a velikost samplovaného vzorku vezměte z hyperparametru max_samples_fraction\n",
    "        \"\"\"\n",
    "        for _ in range(self.n_estimators):\n",
    "            #definujeme rozmery matice\n",
    "            if isinstance(self.max_samples, float):\n",
    "                sample_size = int(self.max_samples * len(X))\n",
    "            else:\n",
    "                sample_size = min(self.max_samples, len(X))\n",
    "\n",
    "            #bootstraping\n",
    "            indices = np.random.choice(len(X), size=sample_size, replace=True)\n",
    "            X_bootstrap = X.iloc[indices] if isinstance(X, pd.DataFrame) else X[indices]\n",
    "            y_bootstrap = y.iloc[indices] if isinstance(y, pd.Series) else y[indices]\n",
    "\n",
    "            #trenovani submodelu\n",
    "            tree = DecisionTreeRegressor(max_depth=self.max_depth, **self.kwargs)\n",
    "            tree.fit(X_bootstrap, y_bootstrap)\n",
    "            self.models.append(tree)\n",
    "\n",
    "        return self\n",
    "\n",
    "    def predict(self, X):\n",
    "        \"\"\"\n",
    "        Predikce y v zadaných bodech X\n",
    "        \"\"\"\n",
    "        #vyrtvorim uloziste pro nase predikce\n",
    "        predictions = np.zeros((X.shape[0], self.n_estimators))\n",
    "\n",
    "        #predikujeme data\n",
    "        for i, tree in enumerate(self.models):\n",
    "            predictions[:, i] = tree.predict(X)\n",
    "\n",
    "        #vratime prumer predikci \n",
    "        return np.mean(predictions, axis=1)\n"
   ]
  },
  {
   "cell_type": "markdown",
   "id": "4344a076-e548-4c9f-ad26-ee87a7314251",
   "metadata": {},
   "source": [
    "Ládím hyperparametry náhodného lesa."
   ]
  },
  {
   "cell_type": "code",
   "execution_count": 20,
   "id": "afa9c4cd-eb54-4323-86e5-1da6eeb9b9a6",
   "metadata": {},
   "outputs": [],
   "source": [
    "from sklearn.model_selection import ParameterGrid\n",
    "import sklearn.metrics as metrics\n",
    "from sklearn.metrics import mean_squared_error\n",
    "\n",
    "param_grid = {\n",
    "    'n_estimators': range(5, 30, 5),\n",
    "    'max_samples': [0.5, 1],\n",
    "    'max_depth': range(3, 10)\n",
    "}\n",
    "\n",
    "param_comb = ParameterGrid(param_grid)\n",
    "\n",
    "val_metric = []\n",
    "for params in param_comb:\n",
    "    clf = CustomRandomForest(**params).fit(Xtrain, ytrain)\n",
    "    val_metric.append(metrics.mean_squared_error(yval, clf.predict(Xval), squared = False)) "
   ]
  },
  {
   "cell_type": "markdown",
   "id": "b90eb20a-e97a-41d9-b207-4e708ba04e35",
   "metadata": {},
   "source": [
    "Hledám pro něj nejlepší parametry a počítám hodnoty RMSE a MAE"
   ]
  },
  {
   "cell_type": "code",
   "execution_count": 21,
   "id": "00efd378-f1eb-4534-82fa-ab490a20a75d",
   "metadata": {},
   "outputs": [
    {
     "name": "stdout",
     "output_type": "stream",
     "text": [
      "The best params for Random Forest: {'n_estimators': 25, 'max_samples': 0.5, 'max_depth': 9}\n",
      "The best RMSE value for Random Forest: 2.1902\n",
      "The best MAE value for Random Forest: 1.5869448020726347\n"
     ]
    }
   ],
   "source": [
    "best_params_forest = param_comb[np.argmin(val_metric)]\n",
    "clf_best_forest = CustomRandomForest(**best_params_forest)\n",
    "clf_best_forest.fit(Xtrain, ytrain)\n",
    "\n",
    "print(f\"The best params for Random Forest: {best_params_forest}\")\n",
    "print(f'The best RMSE value for Random Forest: {min(val_metric):.4f}')\n",
    "print(f\"The best MAE value for Random Forest: {metrics.mean_absolute_error(yval, clf_best_forest.predict(Xval))}\")"
   ]
  },
  {
   "cell_type": "markdown",
   "id": "c800e700-0786-44f9-84f1-6f1b81f216a3",
   "metadata": {},
   "source": [
    "### II(с). Implementace a použití modelů LinearRegression"
   ]
  },
  {
   "cell_type": "markdown",
   "id": "247e0d19-940a-4a4f-ba38-c70a5130d972",
   "metadata": {},
   "source": [
    "Implemetuju model lineární regrese pro porovnání."
   ]
  },
  {
   "cell_type": "code",
   "execution_count": 22,
   "id": "dc167fcf-0d1a-4b4b-bb5b-a398cfb85750",
   "metadata": {},
   "outputs": [
    {
     "name": "stdout",
     "output_type": "stream",
     "text": [
      "The best RMSE value for Linear regresseion: 4.137780763109411\n",
      "The best MAE value for Linear regresseion: 1.7852957025311402\n"
     ]
    },
    {
     "data": {
      "image/png": "[encoded data removed]",
      "text/plain": [
       "<Figure size 800x600 with 1 Axes>"
      ]
     },
     "metadata": {},
     "output_type": "display_data"
    }
   ],
   "source": [
    "#postup byl inspirovan postupem z notebooku cviceni6-7\n",
    "\n",
    "from sklearn.linear_model import LinearRegression\n",
    "\n",
    "clf_linear = LinearRegression()\n",
    "clf_linear.fit(Xtrain,ytrain)\n",
    "\n",
    "Yth = clf_linear.predict(Xval)\n",
    "print(f'The best RMSE value for Linear regresseion: {np.sqrt(metrics.mean_squared_error(np.array(yval), Yth))}')\n",
    "print(f'The best MAE value for Linear regresseion: {np.sqrt(metrics.mean_absolute_error(np.array(yval), Yth))}')\n",
    "\n",
    "plt.figure(figsize=(8,6))\n",
    "plt.scatter(yval, Yth)\n",
    "plt.plot([40,100], [40,100], 'r')\n",
    "plt.show()"
   ]
  },
  {
   "cell_type": "markdown",
   "id": "0eb2bdb8-ee29-4af1-9603-33bffad67b19",
   "metadata": {},
   "source": [
    "### II(d). Implementace a použití modelů RidgeRegression"
   ]
  },
  {
   "cell_type": "markdown",
   "id": "29f508ac-4064-46b3-8d76-10c5dee49d9f",
   "metadata": {},
   "source": [
    "Implementuju model hřebenové regrese"
   ]
  },
  {
   "cell_type": "code",
   "execution_count": 23,
   "id": "46bcf9e7-f900-4bfc-af4e-7c053674f4cb",
   "metadata": {},
   "outputs": [],
   "source": [
    "#postup byl inspirovan postupem z notebooku cviceni8\n",
    "\n",
    "from sklearn.linear_model import Ridge\n",
    "from sklearn.preprocessing import StandardScaler\n",
    "\n",
    "\n",
    "scaler = StandardScaler()\n",
    "Xtrain_scaled = scaler.fit_transform(Xtrain)\n",
    "Xval_scaled = scaler.transform(Xval)\n",
    "\n",
    "alpha_param = np.linspace(1,500,100)\n",
    "val_metric = []    \n",
    "\n",
    "for alpha in alpha_param:\n",
    "    clf_ridge = Ridge(alpha)\n",
    "    clf_ridge.fit(Xtrain_scaled, ytrain)\n",
    "    val_metric.append(metrics.mean_squared_error(yval, clf_ridge.predict(Xval_scaled), squared = False))"
   ]
  },
  {
   "cell_type": "markdown",
   "id": "15660c1e-03e7-422a-b8a3-ef302dcf3433",
   "metadata": {},
   "source": [
    "Hledám pro něj nejlepší parametry a počítám hodnoty RMSE a MAE"
   ]
  },
  {
   "cell_type": "code",
   "execution_count": 24,
   "id": "48808df7-4908-4fad-900b-5709c86b016a",
   "metadata": {},
   "outputs": [
    {
     "name": "stdout",
     "output_type": "stream",
     "text": [
      "The best params for ridge regression: 1.0\n",
      "The best RMSE value for ridge regression: 4.1284\n",
      "The best MAE value for Ridge Regression: 3.1860458784914223\n"
     ]
    },
    {
     "data": {
      "image/png": "[encoded data removed]",
      "text/plain": [
       "<Figure size 800x600 with 1 Axes>"
      ]
     },
     "metadata": {},
     "output_type": "display_data"
    }
   ],
   "source": [
    "best_params_ridge = alpha_param[np.argmin(val_metric)]\n",
    "clf_best_ridge = Ridge(best_params_ridge)\n",
    "clf_best_ridge.fit(Xtrain_scaled, ytrain)\n",
    "\n",
    "print(f\"The best params for ridge regression: {best_params_ridge}\")\n",
    "print(f\"The best RMSE value for ridge regression: {min(val_metric):.4f}\")\n",
    "print(f\"The best MAE value for Ridge Regression: {metrics.mean_absolute_error(yval, clf_best_ridge.predict(Xval_scaled))}\")\n",
    "\n",
    "plt.figure(figsize=(8,6))\n",
    "plt.scatter(yval, clf_best_ridge.predict(Xval_scaled))\n",
    "plt.plot([40,100], [40,100], 'r')\n",
    "plt.show()"
   ]
  },
  {
   "cell_type": "markdown",
   "id": "0a9bc4cf-0d94-4377-89b4-07b72801e42e",
   "metadata": {},
   "source": [
    "Model hřebenové regrese má RMSE = 4.13, zatímco model lineární regrese má RMSE = 4.14. Tedy hřebenová regrese zvládla problém kolinaerity sloupců stejně jako lineární regrese."
   ]
  },
  {
   "cell_type": "markdown",
   "id": "63e9297c-60e5-4e59-bc06-4ada69cebe00",
   "metadata": {},
   "source": [
    "### II(e). Implementace a použití modelů AdaBoost for Regression"
   ]
  },
  {
   "cell_type": "markdown",
   "id": "a789d002-69bb-4104-b594-1b6731ffd33b",
   "metadata": {},
   "source": [
    "Zvolil jsem AdaBoostRegressor jako svou model."
   ]
  },
  {
   "cell_type": "code",
   "execution_count": 25,
   "id": "29cff1a1-c55c-4995-8574-e299fa0fd1c7",
   "metadata": {},
   "outputs": [],
   "source": [
    "#postup byl inspirovan postupem z notebooku cviceni10\n",
    "\n",
    "from sklearn.ensemble import AdaBoostRegressor\n",
    "\n",
    "param_grid = {\n",
    "    'n_estimators': range(10, 100, 10),\n",
    "    'max_depth': range(2,7)\n",
    "}\n",
    "Xtrain_ada = np.array(Xtrain, \"float64\")\n",
    "Xval_ada = np.array(Xval, \"float64\")\n",
    "ytrain_ada = np.array(ytrain, \"float64\")\n",
    "yval_ada = np.array(yval, \"float64\")\n",
    "\n",
    "param_comb = ParameterGrid(param_grid)\n",
    "\n",
    "val_metric = []\n",
    "for params in param_comb:\n",
    "    dt_depth = params.pop(\"max_depth\")\n",
    "    params[\"estimator\"] = DecisionTreeRegressor(max_depth = dt_depth)\n",
    "    dt = AdaBoostRegressor(**params, random_state = 42).fit(Xtrain_ada, ytrain_ada)\n",
    "    val_metric.append(metrics.mean_squared_error(yval_ada, dt.predict(Xval_ada), squared = False))"
   ]
  },
  {
   "cell_type": "markdown",
   "id": "59ea3adf-f0cd-459c-92e2-34bd3318009a",
   "metadata": {},
   "source": [
    "Hledám pro něj nejlepší parametry a počítám hodnoty RMSE a MAE"
   ]
  },
  {
   "cell_type": "code",
   "execution_count": 26,
   "id": "7e2afbee-9558-4350-b21f-98189f5bc122",
   "metadata": {},
   "outputs": [
    {
     "name": "stdout",
     "output_type": "stream",
     "text": [
      "The best params for AdaBoostRegressor: {'n_estimators': 90, 'estimator': DecisionTreeRegressor(max_depth=6)}\n",
      "The best RMSE value for AdaBoostRegressor: 2.1363\n",
      "The best MAE value for AdaBoostRegressor: 1.6755302225906987\n"
     ]
    }
   ],
   "source": [
    "best_params_ada = param_comb[np.argmin(val_metric)]\n",
    "\n",
    "depth = best_params_ada.pop(\"max_depth\")\n",
    "best_params_ada['estimator'] = DecisionTreeRegressor(max_depth=depth)\n",
    "clf_best_ada = AdaBoostRegressor(**best_params_ada, random_state=42)\n",
    "clf_best_ada.fit(Xtrain_ada, ytrain_ada)\n",
    "\n",
    "print(f\"The best params for AdaBoostRegressor: {best_params_ada}\")\n",
    "print(f\"The best RMSE value for AdaBoostRegressor: {min(val_metric):.4f}\")\n",
    "print(f\"The best MAE value for AdaBoostRegressor: {metrics.mean_absolute_error(yval, clf_best_ada.predict(Xval_ada))}\")"
   ]
  },
  {
   "cell_type": "markdown",
   "id": "36b4358e-18a1-414b-8ff7-24422af4da9d",
   "metadata": {},
   "source": [
    "## III. Finální model"
   ]
  },
  {
   "cell_type": "markdown",
   "id": "d20bd488-ebc6-4197-96e7-4c263c535480",
   "metadata": {},
   "source": [
    "Vzhledem k RMSE hodnotám nejlepší model pro tento dataset je Adaboost Regressor s následující parametry."
   ]
  },
  {
   "cell_type": "code",
   "execution_count": 27,
   "id": "db1cde3a-ff80-46de-a7b6-9bdd5e96812f",
   "metadata": {},
   "outputs": [
    {
     "name": "stdout",
     "output_type": "stream",
     "text": [
      "The best params for AdaBoostRegressor: {'n_estimators': 90, 'estimator': DecisionTreeRegressor(max_depth=6)}\n"
     ]
    }
   ],
   "source": [
    "print(f\"The best params for AdaBoostRegressor: {best_params_ada}\")"
   ]
  },
  {
   "cell_type": "code",
   "execution_count": 28,
   "id": "ea4f5865-0d58-4bf4-9191-159c4b58a5fa",
   "metadata": {},
   "outputs": [],
   "source": [
    "Xtest_ada = np.array(Xtest, \"float64\")\n",
    "ytest_ada = np.array(ytest, \"float64\")\n",
    "\n",
    "best_params_ada['estimator'] = DecisionTreeRegressor(max_depth=depth)\n",
    "clf_final = AdaBoostRegressor(**best_params_ada, random_state=42)\n",
    "clf_final.fit(Xtrain_ada, ytrain_ada)\n",
    "\n",
    "y_pred = clf_final.predict(Xtest_ada)"
   ]
  },
  {
   "cell_type": "markdown",
   "id": "da162b55-5df8-4f9a-b2bb-c49c3012604f",
   "metadata": {},
   "source": [
    "Spočítáme RMSE a MAE hodnoty pro náš nejlepší model"
   ]
  },
  {
   "cell_type": "code",
   "execution_count": 29,
   "id": "71866b1e-7c4f-4c21-b2df-961f2d72955e",
   "metadata": {},
   "outputs": [
    {
     "name": "stdout",
     "output_type": "stream",
     "text": [
      "RMSE for final model of AdaBoostRegressor: 2.3821\n",
      "MAE for final model of AdaBoostRegressor: 1.7257\n"
     ]
    }
   ],
   "source": [
    "rmse_final = metrics.mean_squared_error(ytest_ada, y_pred, squared = False)\n",
    "print(f\"RMSE for final model of AdaBoostRegressor: {rmse_final:.4f}\")\n",
    "\n",
    "mae_final = metrics.mean_absolute_error(ytest_ada, y_pred)\n",
    "print(f\"MAE for final model of AdaBoostRegressor: {mae_final:.4f}\")"
   ]
  },
  {
   "cell_type": "markdown",
   "id": "4952771f-f2e1-489c-bd29-bf0db61d14ed",
   "metadata": {},
   "source": [
    "Vidím, že získané hodnoty vypadají docela dobře."
   ]
  },
  {
   "cell_type": "markdown",
   "id": "81653792-38cc-401e-a633-0ac610ad2bb8",
   "metadata": {},
   "source": [
    "## IV.Predikce pomocí finálního modelu"
   ]
  },
  {
   "cell_type": "markdown",
   "id": "4544871a-0281-4539-93b0-1f7dc607033b",
   "metadata": {},
   "source": [
    "Načítám vyhodnocovací data. Udělám té samé vhodné úpravy dat ale pro nový dataset, abych mohl použít můj finální model na nich."
   ]
  },
  {
   "cell_type": "code",
   "execution_count": 30,
   "id": "76000c53-1c3d-4b14-9840-5644786fde94",
   "metadata": {},
   "outputs": [
    {
     "data": {
      "text/html": [
       "<div>\n",
       "<style scoped>\n",
       "    .dataframe tbody tr th:only-of-type {\n",
       "        vertical-align: middle;\n",
       "    }\n",
       "\n",
       "    .dataframe tbody tr th {\n",
       "        vertical-align: top;\n",
       "    }\n",
       "\n",
       "    .dataframe thead th {\n",
       "        text-align: right;\n",
       "    }\n",
       "</style>\n",
       "<table border=\"1\" class=\"dataframe\">\n",
       "  <thead>\n",
       "    <tr style=\"text-align: right;\">\n",
       "      <th></th>\n",
       "      <th>Country</th>\n",
       "      <th>Year</th>\n",
       "      <th>Status</th>\n",
       "      <th>Adult Mortality</th>\n",
       "      <th>infant deaths</th>\n",
       "      <th>Alcohol</th>\n",
       "      <th>percentage expenditure</th>\n",
       "      <th>Hepatitis B</th>\n",
       "      <th>Measles</th>\n",
       "      <th>BMI</th>\n",
       "      <th>...</th>\n",
       "      <th>Polio</th>\n",
       "      <th>Total expenditure</th>\n",
       "      <th>Diphtheria</th>\n",
       "      <th>HIV/AIDS</th>\n",
       "      <th>GDP</th>\n",
       "      <th>Population</th>\n",
       "      <th>thinness  1-19 years</th>\n",
       "      <th>thinness 5-9 years</th>\n",
       "      <th>Income composition of resources</th>\n",
       "      <th>Schooling</th>\n",
       "    </tr>\n",
       "  </thead>\n",
       "  <tbody>\n",
       "    <tr>\n",
       "      <th>0</th>\n",
       "      <td>Azerbaijan</td>\n",
       "      <td>2015</td>\n",
       "      <td>Developing</td>\n",
       "      <td>118.0</td>\n",
       "      <td>5</td>\n",
       "      <td>NaN</td>\n",
       "      <td>0.000000</td>\n",
       "      <td>96.0</td>\n",
       "      <td>0</td>\n",
       "      <td>52.5</td>\n",
       "      <td>...</td>\n",
       "      <td>98.0</td>\n",
       "      <td>NaN</td>\n",
       "      <td>96.0</td>\n",
       "      <td>0.1</td>\n",
       "      <td>55.313820</td>\n",
       "      <td>9649341.0</td>\n",
       "      <td>2.8</td>\n",
       "      <td>2.9</td>\n",
       "      <td>0.758</td>\n",
       "      <td>12.7</td>\n",
       "    </tr>\n",
       "    <tr>\n",
       "      <th>1</th>\n",
       "      <td>Azerbaijan</td>\n",
       "      <td>2014</td>\n",
       "      <td>Developing</td>\n",
       "      <td>119.0</td>\n",
       "      <td>5</td>\n",
       "      <td>0.01</td>\n",
       "      <td>306.182431</td>\n",
       "      <td>94.0</td>\n",
       "      <td>0</td>\n",
       "      <td>51.5</td>\n",
       "      <td>...</td>\n",
       "      <td>97.0</td>\n",
       "      <td>6.40</td>\n",
       "      <td>94.0</td>\n",
       "      <td>0.1</td>\n",
       "      <td>7891.299776</td>\n",
       "      <td>953579.0</td>\n",
       "      <td>2.8</td>\n",
       "      <td>2.9</td>\n",
       "      <td>0.752</td>\n",
       "      <td>12.2</td>\n",
       "    </tr>\n",
       "    <tr>\n",
       "      <th>2</th>\n",
       "      <td>Azerbaijan</td>\n",
       "      <td>2013</td>\n",
       "      <td>Developing</td>\n",
       "      <td>121.0</td>\n",
       "      <td>5</td>\n",
       "      <td>2.14</td>\n",
       "      <td>275.651493</td>\n",
       "      <td>93.0</td>\n",
       "      <td>164</td>\n",
       "      <td>5.6</td>\n",
       "      <td>...</td>\n",
       "      <td>96.0</td>\n",
       "      <td>5.54</td>\n",
       "      <td>93.0</td>\n",
       "      <td>0.1</td>\n",
       "      <td>7875.756953</td>\n",
       "      <td>941681.0</td>\n",
       "      <td>2.8</td>\n",
       "      <td>2.8</td>\n",
       "      <td>0.745</td>\n",
       "      <td>11.9</td>\n",
       "    </tr>\n",
       "    <tr>\n",
       "      <th>3</th>\n",
       "      <td>Azerbaijan</td>\n",
       "      <td>2012</td>\n",
       "      <td>Developing</td>\n",
       "      <td>123.0</td>\n",
       "      <td>5</td>\n",
       "      <td>0.01</td>\n",
       "      <td>285.610391</td>\n",
       "      <td>88.0</td>\n",
       "      <td>0</td>\n",
       "      <td>49.7</td>\n",
       "      <td>...</td>\n",
       "      <td>92.0</td>\n",
       "      <td>5.37</td>\n",
       "      <td>89.0</td>\n",
       "      <td>0.1</td>\n",
       "      <td>7496.335728</td>\n",
       "      <td>9295784.0</td>\n",
       "      <td>2.8</td>\n",
       "      <td>2.8</td>\n",
       "      <td>0.742</td>\n",
       "      <td>11.8</td>\n",
       "    </tr>\n",
       "    <tr>\n",
       "      <th>4</th>\n",
       "      <td>Azerbaijan</td>\n",
       "      <td>2011</td>\n",
       "      <td>Developing</td>\n",
       "      <td>125.0</td>\n",
       "      <td>5</td>\n",
       "      <td>1.98</td>\n",
       "      <td>263.142699</td>\n",
       "      <td>84.0</td>\n",
       "      <td>0</td>\n",
       "      <td>48.8</td>\n",
       "      <td>...</td>\n",
       "      <td>91.0</td>\n",
       "      <td>5.10</td>\n",
       "      <td>87.0</td>\n",
       "      <td>0.1</td>\n",
       "      <td>7189.691229</td>\n",
       "      <td>917382.0</td>\n",
       "      <td>2.8</td>\n",
       "      <td>2.9</td>\n",
       "      <td>0.741</td>\n",
       "      <td>11.7</td>\n",
       "    </tr>\n",
       "  </tbody>\n",
       "</table>\n",
       "<p>5 rows × 21 columns</p>\n",
       "</div>"
      ],
      "text/plain": [
       "      Country  Year      Status  Adult Mortality  infant deaths  Alcohol  \\\n",
       "0  Azerbaijan  2015  Developing            118.0              5      NaN   \n",
       "1  Azerbaijan  2014  Developing            119.0              5     0.01   \n",
       "2  Azerbaijan  2013  Developing            121.0              5     2.14   \n",
       "3  Azerbaijan  2012  Developing            123.0              5     0.01   \n",
       "4  Azerbaijan  2011  Developing            125.0              5     1.98   \n",
       "\n",
       "   percentage expenditure  Hepatitis B  Measles   BMI  ...  Polio  \\\n",
       "0                0.000000         96.0        0  52.5  ...   98.0   \n",
       "1              306.182431         94.0        0  51.5  ...   97.0   \n",
       "2              275.651493         93.0      164   5.6  ...   96.0   \n",
       "3              285.610391         88.0        0  49.7  ...   92.0   \n",
       "4              263.142699         84.0        0  48.8  ...   91.0   \n",
       "\n",
       "   Total expenditure  Diphtheria  HIV/AIDS          GDP  Population  \\\n",
       "0                NaN        96.0       0.1    55.313820   9649341.0   \n",
       "1               6.40        94.0       0.1  7891.299776    953579.0   \n",
       "2               5.54        93.0       0.1  7875.756953    941681.0   \n",
       "3               5.37        89.0       0.1  7496.335728   9295784.0   \n",
       "4               5.10        87.0       0.1  7189.691229    917382.0   \n",
       "\n",
       "   thinness  1-19 years  thinness 5-9 years  Income composition of resources  \\\n",
       "0                   2.8                 2.9                            0.758   \n",
       "1                   2.8                 2.9                            0.752   \n",
       "2                   2.8                 2.8                            0.745   \n",
       "3                   2.8                 2.8                            0.742   \n",
       "4                   2.8                 2.9                            0.741   \n",
       "\n",
       "   Schooling  \n",
       "0       12.7  \n",
       "1       12.2  \n",
       "2       11.9  \n",
       "3       11.8  \n",
       "4       11.7  \n",
       "\n",
       "[5 rows x 21 columns]"
      ]
     },
     "metadata": {},
     "output_type": "display_data"
    }
   ],
   "source": [
    "eval_df = pd.read_csv('evaluation.csv')\n",
    "display(eval_df.head())\n",
    "country = eval_df['Country']\n",
    "year = eval_df['Year']\n",
    "\n",
    "status_category = pd.api.types.CategoricalDtype(categories=['Developing', 'Developed'], ordered=True)\n",
    "eval_df['Status'] = eval_df['Status'].astype(status_category)\n",
    "\n",
    "for col in eval_df.select_dtypes('category').columns:\n",
    "    eval_df[col] = eval_df[col].cat.codes\n",
    "\n",
    "string_cols = eval_df.select_dtypes(['object']).columns\n",
    "eval_df[string_cols] = eval_df[string_cols].astype('category').apply(lambda x: x.cat.codes)\n",
    "\n",
    "columns_with_nan = list(eval_df.columns[eval_df.isna().any()])\n",
    "\n",
    "for column in columns_with_nan:\n",
    "    eval_df[column] = eval_df[column].fillna(median_values[column])\n",
    "\n",
    "\n",
    "eval_df = eval_df.drop('Country', axis=1)\n",
    "eval_df = np.array(eval_df, \"float64\")"
   ]
  },
  {
   "cell_type": "code",
   "execution_count": 31,
   "id": "d43d8b16-ec46-4410-97d0-72d66f522aae",
   "metadata": {},
   "outputs": [],
   "source": [
    "y_pred = clf_final.predict(eval_df)"
   ]
  },
  {
   "cell_type": "code",
   "execution_count": 32,
   "id": "184a4aa8-5227-4366-862a-9c7be44f4d65",
   "metadata": {},
   "outputs": [
    {
     "data": {
      "text/html": [
       "<div>\n",
       "<style scoped>\n",
       "    .dataframe tbody tr th:only-of-type {\n",
       "        vertical-align: middle;\n",
       "    }\n",
       "\n",
       "    .dataframe tbody tr th {\n",
       "        vertical-align: top;\n",
       "    }\n",
       "\n",
       "    .dataframe thead th {\n",
       "        text-align: right;\n",
       "    }\n",
       "</style>\n",
       "<table border=\"1\" class=\"dataframe\">\n",
       "  <thead>\n",
       "    <tr style=\"text-align: right;\">\n",
       "      <th></th>\n",
       "      <th>Country</th>\n",
       "      <th>Year</th>\n",
       "      <th>Life Expectancy</th>\n",
       "    </tr>\n",
       "  </thead>\n",
       "  <tbody>\n",
       "    <tr>\n",
       "      <th>0</th>\n",
       "      <td>Azerbaijan</td>\n",
       "      <td>2015</td>\n",
       "      <td>74.763470</td>\n",
       "    </tr>\n",
       "    <tr>\n",
       "      <th>1</th>\n",
       "      <td>Azerbaijan</td>\n",
       "      <td>2014</td>\n",
       "      <td>74.025325</td>\n",
       "    </tr>\n",
       "    <tr>\n",
       "      <th>2</th>\n",
       "      <td>Azerbaijan</td>\n",
       "      <td>2013</td>\n",
       "      <td>73.080769</td>\n",
       "    </tr>\n",
       "    <tr>\n",
       "      <th>3</th>\n",
       "      <td>Azerbaijan</td>\n",
       "      <td>2012</td>\n",
       "      <td>74.699091</td>\n",
       "    </tr>\n",
       "    <tr>\n",
       "      <th>4</th>\n",
       "      <td>Azerbaijan</td>\n",
       "      <td>2011</td>\n",
       "      <td>73.987371</td>\n",
       "    </tr>\n",
       "    <tr>\n",
       "      <th>5</th>\n",
       "      <td>Azerbaijan</td>\n",
       "      <td>2010</td>\n",
       "      <td>72.864623</td>\n",
       "    </tr>\n",
       "    <tr>\n",
       "      <th>6</th>\n",
       "      <td>Belgium</td>\n",
       "      <td>2015</td>\n",
       "      <td>83.538614</td>\n",
       "    </tr>\n",
       "    <tr>\n",
       "      <th>7</th>\n",
       "      <td>Belgium</td>\n",
       "      <td>2014</td>\n",
       "      <td>83.745161</td>\n",
       "    </tr>\n",
       "    <tr>\n",
       "      <th>8</th>\n",
       "      <td>Belgium</td>\n",
       "      <td>2013</td>\n",
       "      <td>82.900000</td>\n",
       "    </tr>\n",
       "    <tr>\n",
       "      <th>9</th>\n",
       "      <td>Belgium</td>\n",
       "      <td>2012</td>\n",
       "      <td>83.125000</td>\n",
       "    </tr>\n",
       "    <tr>\n",
       "      <th>10</th>\n",
       "      <td>Belgium</td>\n",
       "      <td>2011</td>\n",
       "      <td>81.701724</td>\n",
       "    </tr>\n",
       "    <tr>\n",
       "      <th>11</th>\n",
       "      <td>Belgium</td>\n",
       "      <td>2010</td>\n",
       "      <td>82.608333</td>\n",
       "    </tr>\n",
       "    <tr>\n",
       "      <th>12</th>\n",
       "      <td>Belize</td>\n",
       "      <td>2015</td>\n",
       "      <td>74.114249</td>\n",
       "    </tr>\n",
       "    <tr>\n",
       "      <th>13</th>\n",
       "      <td>Belize</td>\n",
       "      <td>2014</td>\n",
       "      <td>73.882783</td>\n",
       "    </tr>\n",
       "    <tr>\n",
       "      <th>14</th>\n",
       "      <td>Belize</td>\n",
       "      <td>2013</td>\n",
       "      <td>73.351875</td>\n",
       "    </tr>\n",
       "  </tbody>\n",
       "</table>\n",
       "</div>"
      ],
      "text/plain": [
       "       Country  Year  Life Expectancy\n",
       "0   Azerbaijan  2015        74.763470\n",
       "1   Azerbaijan  2014        74.025325\n",
       "2   Azerbaijan  2013        73.080769\n",
       "3   Azerbaijan  2012        74.699091\n",
       "4   Azerbaijan  2011        73.987371\n",
       "5   Azerbaijan  2010        72.864623\n",
       "6      Belgium  2015        83.538614\n",
       "7      Belgium  2014        83.745161\n",
       "8      Belgium  2013        82.900000\n",
       "9      Belgium  2012        83.125000\n",
       "10     Belgium  2011        81.701724\n",
       "11     Belgium  2010        82.608333\n",
       "12      Belize  2015        74.114249\n",
       "13      Belize  2014        73.882783\n",
       "14      Belize  2013        73.351875"
      ]
     },
     "metadata": {},
     "output_type": "display_data"
    }
   ],
   "source": [
    "data  = {'Country': country, 'Year': year, 'Life Expectancy': y_pred}\n",
    "\n",
    "result = pd.DataFrame(data)\n",
    "display(result.head(15))"
   ]
  },
  {
   "cell_type": "code",
   "execution_count": 33,
   "id": "d8c51a7c-4998-4de8-9df4-b5aa6f51eba6",
   "metadata": {},
   "outputs": [],
   "source": [
    "result.to_csv('results.csv', index=False)"
   ]
  }
 ],
 "metadata": {
  "kernelspec": {
   "display_name": "Python 3 (ipykernel)",
   "language": "python",
   "name": "python3"
  },
  "language_info": {
   "codemirror_mode": {
    "name": "ipython",
    "version": 3
   },
   "file_extension": ".py",
   "mimetype": "text/x-python",
   "name": "python",
   "nbconvert_exporter": "python",
   "pygments_lexer": "ipython3",
   "version": "3.10.1"
  }
 },
 "nbformat": 4,
 "nbformat_minor": 5
}
